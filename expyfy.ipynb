{
 "cells": [
  {
   "cell_type": "code",
   "execution_count": 1,
   "id": "23c98248",
   "metadata": {},
   "outputs": [],
   "source": [
    "from cc_parser.buckets import ALL_BUCKETS\n",
    "from cc_parser.constants import CCType, CCHeader\n",
    "from cc_parser.utils import *\n",
    "from config import ExpenseManagerConstants\n",
    "try:\n",
    "    from cc_parser.my_buckets import ALL_BUCKETS as PRIVATE_BUCKETS\n",
    "    ALL_BUCKETS.update(PRIVATE_BUCKETS)\n",
    "except Exception as e:\n",
    "    pass"
   ]
  },
  {
   "cell_type": "code",
   "execution_count": 3,
   "id": "2cb3120b",
   "metadata": {},
   "outputs": [],
   "source": [
    "# Sample to Load Individual Statement\n",
    "# discover_tx_list = parseStatements(statements[0], CCType.DISCOVER)\n",
    "# discover_bucket = groupTxInBuckets(discover_tx_list, ALL_BUCKETS, CCType.DISCOVER)\n",
    "\n",
    "# Load All Statements\n",
    "statements = loadStatements(ExpenseManagerConstants.EXPENSE_STATEMENT_PATHS)\n",
    "\n",
    "for statement in statements.values():\n",
    "    statement[\"statements\"] = parseStatements(statement[\"statements\"], statement[\"type\"])\n",
    "    statement[\"bucket\"] = groupTxInBuckets(statement[\"statements\"], ALL_BUCKETS, statement[\"type\"])\n",
    "\n",
    "merged_buckets, merged_tx = mergeCardBuckets( [ statement[\"bucket\"] for statement in statements.values() ], filter_buckets=[], build_tuples=True )\n",
    "merged_tx_copy = merged_tx\n",
    "tx_list = formatTxTuples( sort_tx_by_date( sliceTxByDate(merged_tx_copy, '01/01/2021')) )\n",
    "saveToCSV(tx_list)\n"
   ]
  },
  {
   "cell_type": "code",
   "execution_count": null,
   "id": "6187edbb",
   "metadata": {},
   "outputs": [],
   "source": [
    "\"\"\"\n",
    "################\n",
    "READ & UPDATE tx_*.csv\n",
    "update the last 2 columns\n",
    "**, 1,\n",
    "Update the above row to either {1,2,3}\n",
    "(1, 'PERSONAL'), (2, 'SPLIT'), (3, 'NOT_SPLIT')\n",
    "and the last field to any personal comments \n",
    "\n",
    "end result\n",
    "**, 3, Local Trip\n",
    "################\n",
    "\"\"\""
   ]
  },
  {
   "cell_type": "code",
   "execution_count": null,
   "id": "972c2ea1",
   "metadata": {},
   "outputs": [],
   "source": [
    "\"\"\"\n",
    "1. Save to DB\n",
    "2. \n",
    "\"\"\"\n",
    "\n",
    "from cc_parser.db import DBLite\n",
    "from splitwise.adapter import SplitwiseSDK\n",
    "sql_driver = DBLite()\n",
    "split_sdk = SplitwiseSDK()\n",
    "split_sdk.setGroupId('{INSERT GROUP ID HERE}')\n",
    "\n",
    "# Run Migrations\n",
    "sql_driver.migrationsUp()\n",
    "\n",
    "# Bulksert Transactions into DB\n",
    "parsed_file_name = 'tx.csv'\n",
    "tx_list = readCSV( parsed_file_name )\n",
    "# sql_driver.insertTxList(tx_list)\n",
    "\n",
    "\n",
    "# Filter Transactions categorized to be SPLIT {3}\n",
    "non_split_transactions = sql_driver.getNonSplitPayments()\n",
    "\n",
    "for [_ID, _HASH, _DATE, _TITLE, _CATEGORY, _AMOUNT,\\\n",
    "      _COMMENT, _CTYPE, _SPLIT_TYPE, _SPLITWISE_CATEGORY] in non_split_transactions:\n",
    "    print(_TITLE)\n",
    "#     resp = split_sdk.createExpense(_TITLE, str(_AMOUNT), _DATE, _SPLITWISE_CATEGORY)\n",
    "#     print(_HASH, \" -- \", resp[\"expenses\"][0][\"id\"])\n",
    "#     sql_driver.updateTx(_ID, _HASH, resp[\"expenses\"][0][\"id\"])\n",
    "\n",
    "sql_driver.close()"
   ]
  }
 ],
 "metadata": {
  "kernelspec": {
   "display_name": "env",
   "language": "python",
   "name": "python3"
  },
  "language_info": {
   "codemirror_mode": {
    "name": "ipython",
    "version": 3
   },
   "file_extension": ".py",
   "mimetype": "text/x-python",
   "name": "python",
   "nbconvert_exporter": "python",
   "pygments_lexer": "ipython3",
   "version": "3.9.6"
  },
  "vscode": {
   "interpreter": {
    "hash": "4e262a1198adbbbcfd70a4d593e7281f9237fce81b099d71818c9baf1e8069e7"
   }
  }
 },
 "nbformat": 4,
 "nbformat_minor": 5
}
